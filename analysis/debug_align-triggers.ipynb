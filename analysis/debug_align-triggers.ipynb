{
 "cells": [
  {
   "cell_type": "code",
   "execution_count": null,
   "metadata": {},
   "outputs": [],
   "source": [
    "import os\n",
    "import os.path as op\n",
    "import coinsmeg_data as coinsmeg\n",
    "from glob import glob\n",
    "import pathlib\n",
    "import mne\n",
    "import re\n",
    "import pandas as pd\n",
    "import numpy as np"
   ]
  },
  {
   "cell_type": "code",
   "execution_count": null,
   "metadata": {},
   "outputs": [],
   "source": [
    "coinsmeg.RAW_DIR"
   ]
  },
  {
   "cell_type": "code",
   "execution_count": null,
   "metadata": {},
   "outputs": [],
   "source": [
    "############## ------- Directories ---------- ############\n",
    "\n",
    "# Directories\n",
    "data_dir = \"/Users/amyli/Desktop/phd/04-coins-meg/test-data\"\n",
    "data_dir = \"/Users/lhunt/OneDrive - Nexus365/General/projects/coins_meg/data/sub-04\"\n",
    "maxfiltered_dir = f\"{data_dir}/derivatives/maxfiltered\"\n",
    "aligned_dir = f\"{data_dir}/derivatives/aligned\"\n",
    "#data_dir = coinsmeg.RAW_DIR # this is the same as BASE_DIR as raw data is stored in the base directory\n",
    "#maxfiltered_dir = op.join(coinsmeg.DERIVATIVES_DIR, \"maxfiltered\") # the input\n",
    "#aligned_dir = op.join(coinsmeg.DERIVATIVES_DIR, \"aligned\") # the output\n",
    "\n",
    "# Get subjects\n",
    "sub_run_combo = 'sub-04_run-4'\n",
    "subject_id, run_id = sub_run_combo.split('_') # will produce subject_id = 'sub-XX', run_id = 'run-X'\n",
    "run_number = int(re.search(r'\\d+', run_id).group()) # extract number after 'run-"
   ]
  },
  {
   "cell_type": "code",
   "execution_count": null,
   "metadata": {},
   "outputs": [],
   "source": [
    "#fif_file = f'{maxfiltered_dir}/{subject_id}/{subject_id}_ses-2-meg_task-coinsmeg_{run_id}_meg_transsss.fif'\n",
    "fif_file = f'{data_dir}/ses-2-meg/meg/{subject_id}_ses-2-meg_task-coinsmeg_{run_id}_meg.fif'\n",
    "beh_file = \"/Users/lhunt/OneDrive - Nexus365/General/projects/coins_meg/data/sub-04/ses-2-meg/beh/sub-04_ses-2-meg_task-coinsmeg_run-4.csv\""
   ]
  },
  {
   "cell_type": "code",
   "execution_count": null,
   "metadata": {},
   "outputs": [],
   "source": [
    "if os.path.isfile(fif_file):\n",
    "    print(\"Fif file exists\")\n",
    "else:\n",
    "    print(\"Fif file not found\")"
   ]
  },
  {
   "cell_type": "code",
   "execution_count": null,
   "metadata": {},
   "outputs": [],
   "source": [
    "coinsmeg.EVENT_ID"
   ]
  },
  {
   "cell_type": "code",
   "execution_count": null,
   "metadata": {},
   "outputs": [],
   "source": [
    "valid_triggers = list(coinsmeg.EVENT_ID.values())\n",
    "overlapTriggers = [value + 1 for value in valid_triggers] + [value + 2 for value in valid_triggers]"
   ]
  },
  {
   "cell_type": "code",
   "execution_count": null,
   "metadata": {},
   "outputs": [],
   "source": [
    "minLaserDist = 0.08"
   ]
  },
  {
   "cell_type": "code",
   "execution_count": null,
   "metadata": {},
   "outputs": [],
   "source": [
    "############ ============== REQUIRED FUNCTIONS ========================= ##################\n",
    "\n",
    "def calculate_block_times(raw, all_events):\n",
    "    \"\"\"\n",
    "    For an EEG dataset in MNE-Python, determines the start and end times of blocks.\n",
    "    \n",
    "    Parameters:\n",
    "    - all_events: EEG events extracted from MNE Raw object \n",
    "\n",
    "    Returns:\n",
    "    - eeg_block_times: A dictionary with block start and end indices, durations in minutes, \n",
    "                       and start/end times in seconds.\n",
    "    \"\"\"\n",
    "    trig_values = all_events[:, 2]  # Event trigger values\n",
    "\n",
    "    # Identify Block Start and End Indices\n",
    "    trig_blockStart = coinsmeg.EVENT_ID['blockStart']\n",
    "    trig_blockEnd = coinsmeg.EVENT_ID['blockEnd']\n",
    "\n",
    "    blockStart_idx = np.where(trig_values == trig_blockStart)[0]\n",
    "    blockEnd_idx = np.where(trig_values == trig_blockEnd)[0]\n",
    "\n",
    "    if len(blockStart_idx) != 4 or len(blockEnd_idx) != 4:\n",
    "        raise ValueError(\"Wrong number of block triggers detected\")\n",
    "    else:\n",
    "        print(\"THere are four block start and end triggers.\")\n",
    "\n",
    "    # Calculate Block Durations (in minutes)\n",
    "    # Convert the sample times to actual time in seconds\n",
    "    blockStart_times = raw.times[all_events[blockStart_idx, 0]]\n",
    "    blockEnd_times = raw.times[all_events[blockEnd_idx, 0]]\n",
    "\n",
    "    block_durations = (blockEnd_times - blockStart_times) / 60  # Convert seconds to minutes\n",
    "\n",
    "    # Warn about Suspicious Block Durations\n",
    "    if any(block_durations > 4) or any(block_durations < 3):\n",
    "        print(\"Warning: Suspicious block durations\")\n",
    "\n",
    "    # Collect and Return Block Information\n",
    "    eeg_block_times = {\n",
    "        'eventIndices': np.column_stack((blockStart_idx, blockEnd_idx)),\n",
    "        'durationsInMin': block_durations,\n",
    "        'bordersInSecs': np.column_stack((blockStart_times, blockEnd_times))\n",
    "    }\n",
    "\n",
    "    return eeg_block_times\n"
   ]
  },
  {
   "cell_type": "code",
   "execution_count": null,
   "metadata": {},
   "outputs": [],
   "source": [
    "def extract_py_events(blockData, block_i):\n",
    "        \n",
    "    \"\"\"\n",
    "    From a session's csv file, extract csv events for the specified block. \n",
    "    Note there are four blocks in every session csv file.\n",
    "    \"\"\"\n",
    "\n",
    "    blockData_currBlock = blockData[blockData.blockID == block_i]\n",
    "    nFrames = blockData_currBlock['currentFrame'].iloc[-1]# Get the last element of blockData['currentFrame']\n",
    "    # convert timestamps in frames to time unit (seconds)\n",
    "    fsample = 60\n",
    "    py_times = np.arange(0, nFrames / fsample, 1 / fsample)\n",
    "    # find indices in triggerValue where the value is greater than 0 (i.e., a trigger was sent)\n",
    "    py_trigIndex_blockSpace = np.where(blockData_currBlock['triggerValue'] > 0)[0] # which row of framewise block data has trigger\n",
    "    py_trig_rows = blockData_currBlock.iloc[py_trigIndex_blockSpace]\n",
    "\n",
    "    py_times = py_times[py_trigIndex_blockSpace]\n",
    "    py_vals = py_trig_rows.triggerValue\n",
    "\n",
    "    py_start_value = py_vals[0]\n",
    "    if py_start_value !=  coinsmeg.EVENT_ID['laserHit'] and py_start_value != coinsmeg.EVENT_ID['laserMiss']:\n",
    "        print('first trigger in csv file for the block is not a laser event')\n",
    "\n",
    "    py_trigIndex_trigSpace = np.arange(1, len(py_vals) + 1)\n",
    "\n",
    "    return py_times, py_vals, py_start_value, py_trigIndex_trigSpace, py_trigIndex_blockSpace\n"
   ]
  },
  {
   "cell_type": "code",
   "execution_count": null,
   "metadata": {},
   "outputs": [],
   "source": [
    "def extract_eeg_and_align_start(raw, all_events, eeg_block_times, block_i, py_start_value):\n",
    "   \n",
    "    #### ======== Extract EEG events for the specified block   ========== ####\n",
    "\n",
    "    # Step 1: Extract EEG events for the specified block\n",
    "    start_idx, end_idx = eeg_block_times['eventIndices'][block_i-1] # get the block_i-1 element of eventIndices; contains start and end time of n block\n",
    "    eegEvents = all_events[start_idx:end_idx + 1]  # MNE events are indexed as [start:end+1] in Python\n",
    "\n",
    "    # Extract sample times and event codes for the current block\n",
    "    eeg_times = raw.times[eegEvents[:, 0]]  # Convert sample indices to times in seconds\n",
    "    eeg_vals = eegEvents[:, 2]            # Extract the event codes (values) for these events\n",
    "\n",
    "    #### Align EEG time with csv times by setting the first matching event time to zero ####\n",
    "\n",
    "    tmpIdx = np.where(eeg_vals == py_start_value)[0] # gets the indices of elements of eeg_vals that match py_start_value\n",
    "    if len(tmpIdx) == 0:\n",
    "        raise ValueError(\"No matching event found in EEG for the specified py_start_value.\")\n",
    "\n",
    "    # Get the first event in the EEG file which equals the first event of csv file\n",
    "    # and get the time (in eeg recording) when it happened\n",
    "    eegStartTimeOffset = eeg_times[tmpIdx[0]] # this is the same thing as 'how much earlier did eeg recording start compared to first csv event'\n",
    "\n",
    "    # Subtract the offset to align times, setting the first matching event to time zero\n",
    "    eeg_times = eeg_times - eegStartTimeOffset\n",
    "\n",
    "    # Step 3: Calculate sample indices for the start and end of the block\n",
    "    # Find the sample indices that correspond to the start and end times of the block\n",
    "    eegStartSample = raw.time_as_index(eeg_block_times['bordersInSecs'][block_i-1, 0])[0] # time_as_index coverts seconds to indices, accounting for srate \n",
    "    eegEndSample = raw.time_as_index(eeg_block_times['bordersInSecs'][block_i-1, 1])[0] # both lines return an array of a single element, but we need [0] anyway to extract the element\n",
    "\n",
    "    return eeg_times, eeg_vals, eegStartTimeOffset, eegStartSample, eegEndSample\n"
   ]
  },
  {
   "cell_type": "code",
   "execution_count": null,
   "metadata": {},
   "outputs": [],
   "source": [
    "# Load in EEG data and wrangle the events a bit\n",
    "\n",
    "raw = mne.io.read_raw_fif(fif_file, preload=True)\n",
    "all_events = mne.find_events(raw, min_duration=0.005)"
   ]
  },
  {
   "cell_type": "code",
   "execution_count": null,
   "metadata": {},
   "outputs": [],
   "source": [
    "blockData = pd.read_csv(beh_file,usecols=range(12))\n",
    "block_i = 1"
   ]
  },
  {
   "cell_type": "code",
   "execution_count": null,
   "metadata": {},
   "outputs": [],
   "source": [
    "py_times, py_vals, py_start_value, py_trigIndex_trigSpace, py_trigIndex_blockSpace = extract_py_events(blockData, 1)"
   ]
  },
  {
   "cell_type": "code",
   "execution_count": null,
   "metadata": {},
   "outputs": [],
   "source": [
    "#plot the triggers from py_vals, using the keys from py_times as the x axis\n",
    "import matplotlib.pyplot as plt\n",
    "\n",
    "\n"
   ]
  },
  {
   "cell_type": "code",
   "execution_count": null,
   "metadata": {},
   "outputs": [],
   "source": [
    "## Now the EEG triggers\n",
    "eeg_block_times = calculate_block_times(raw, all_events)"
   ]
  },
  {
   "cell_type": "code",
   "execution_count": null,
   "metadata": {},
   "outputs": [],
   "source": [
    "eeg_times, eeg_vals, eegStartTimeOffset, eegStartSample, eegEndSample = extract_eeg_and_align_start(raw, all_events, eeg_block_times, block_i, py_start_value)"
   ]
  },
  {
   "cell_type": "code",
   "execution_count": null,
   "metadata": {},
   "outputs": [],
   "source": [
    "import matplotlib.pyplot as plt\n",
    "#equivalent of matlab subplot(2,1,1):\n",
    "plt.subplot(2,1,1)\n",
    "\n",
    "plt.plot(eeg_times[1:-1], eeg_vals[1:-1], '.')\n",
    "plt.xlabel('Time (s)')\n",
    "plt.ylabel('Trigger Value')\n",
    "plt.title('Triggers from EEG Data')\n",
    "plt.show()\n",
    "\n",
    "plt.subplot(2,1,2)\n",
    "\n",
    "plt.plot(py_times, py_vals, '.')\n",
    "plt.xlabel('Time (s)')\n",
    "plt.ylabel('Trigger Value')\n",
    "plt.title('Triggers from Python CSV')\n",
    "plt.show()"
   ]
  },
  {
   "cell_type": "code",
   "execution_count": null,
   "metadata": {},
   "outputs": [],
   "source": [
    "## Save a copy before working on it\n",
    "eeg_times_orig = eeg_times.copy()\n",
    "eeg_vals_orig = eeg_vals.copy()\n",
    "py_times_orig = py_times.copy()\n",
    "py_vals_orig = py_vals.copy()"
   ]
  },
  {
   "cell_type": "code",
   "execution_count": null,
   "metadata": {},
   "outputs": [],
   "source": [
    "# run cell to reset\n",
    "eeg_times = eeg_times_orig\n",
    "eeg_vals = eeg_vals_orig\n",
    "py_times = py_times_orig\n",
    "py_vals = py_vals_orig"
   ]
  },
  {
   "cell_type": "code",
   "execution_count": null,
   "metadata": {},
   "outputs": [],
   "source": [
    "# visualise to see where problems lie first before aligning triggers\n",
    "%matplotlib widget\n",
    "import matplotlib.pyplot as plt\n",
    "\n",
    "# Create the figure\n",
    "plt.figure()\n",
    "\n",
    "# Plot eegTimesOrig and eegValuesOrig with 'x' marker\n",
    "plt.plot(eeg_times_orig[1:-1], eeg_vals_orig[1:-1], 'x', label='EEG Original Values', markersize=2)\n",
    "\n",
    "# Hold on and plot matTimesOrig and matValuesOrig with 'o' marker\n",
    "plt.plot(py_times_orig, py_vals_orig, 'o', label='MAT Original Values', markersize=2)\n",
    "\n",
    "# Set y-axis limits\n",
    "plt.ylim([5, 55])\n",
    "\n",
    "# Show legend\n",
    "plt.legend()\n",
    "\n",
    "# Show plot\n",
    "plt.show()\n"
   ]
  },
  {
   "cell_type": "markdown",
   "metadata": {},
   "source": [
    "### Now the trickier aligning fun begins..."
   ]
  },
  {
   "cell_type": "code",
   "execution_count": null,
   "metadata": {},
   "outputs": [],
   "source": [
    "# Initialize assignments and tracking arrays\n",
    "assignments = np.zeros(len(eeg_vals), dtype=int)  # Track number of assignments per EEG event\n",
    "assigned_py_trigs = [[] for _ in range(len(eeg_vals))]  # Track assigned csv triggers\n",
    "unassigned_py_trigs_idx = []  # Track unassigned csv triggers\n"
   ]
  },
  {
   "cell_type": "code",
   "execution_count": null,
   "metadata": {},
   "outputs": [],
   "source": [
    "# Find the indices of eeg_vals that are not in py_vals (the csv file containing ground-truth trigger values)\n",
    "#toremove = ~np.isin(eeg_vals, py_vals)"
   ]
  },
  {
   "cell_type": "code",
   "execution_count": null,
   "metadata": {},
   "outputs": [],
   "source": [
    "# Remove those indices from eeg_vals and eeg_times\n",
    "#eeg_vals = eeg_vals[~toremove]\n",
    "#eeg_times = eeg_times[~toremove]"
   ]
  },
  {
   "cell_type": "code",
   "execution_count": null,
   "metadata": {},
   "outputs": [],
   "source": [
    "iteration = 0\n",
    "\n",
    "for py_idx, py_val in enumerate(py_vals): # results in a idx, val pair\n",
    "    print('-----')\n",
    "    # for testing X iterations\n",
    "    if iteration >= 3:\n",
    "        break\n",
    "    \n",
    "    # Find potential EEG triggers with matching values\n",
    "    potEEGtrigs = np.where(eeg_vals == py_val)[0] # returns list of indices of elements in eeg_vals that has the same value as the current py_value trigger \n",
    "    \n",
    "    if len(potEEGtrigs) == 0:\n",
    "        # No matching EEG value found for the csv event\n",
    "        print(\"Warning: Unassigned py event because no matching EEG value found...\")\n",
    "        unassigned_py_trigs_idx.append(py_idx)\n",
    "    else:\n",
    "        # Find the closest EEG trigger by time\n",
    "        time_diffs = np.abs(eeg_times[potEEGtrigs] - py_times[py_idx])\n",
    "        idx = np.argmin(time_diffs)  # Index of the closest time match\n",
    "        closest_eeg_idx = potEEGtrigs[idx]\n",
    "\n",
    "        # Assign the csv trigger to this EEG trigger\n",
    "        assignments[closest_eeg_idx] += 1 # add a 1 to the location where there is a closest match\n",
    "        \n",
    "        # Check for multiple assignments to the same EEG trigger\n",
    "        if assignments[closest_eeg_idx] > 1:\n",
    "            # Double assignment detected - resolve based on timing\n",
    "\n",
    "            # Times of the csv events in question\n",
    "            t1 = py_times[assigned_py_trigs[closest_eeg_idx][0]]\n",
    "            t2 = py_times[py_idx]\n",
    "\n",
    "            print('t1 = ', t1, ' and t2 = ', t2)\n",
    "            \n",
    "            # Check if the two csv events are very close in time\n",
    "            if t2 - t1 < minLaserDist:\n",
    "                flagMissedEEG = True\n",
    "            else:\n",
    "                flagMissedEEG = False\n",
    "            print('flagMissedEEG = ', flagMissedEEG)\n",
    "            \n",
    "            # Calculate delays for each assignment\n",
    "            delay1 = t1 - eeg_times[closest_eeg_idx]\n",
    "            delay2 = t2 - eeg_times[closest_eeg_idx]\n",
    "            print('delay1 = ', delay1, ' and delay2 = ', delay2)\n",
    "\n",
    "            # Estimate the current average delay\n",
    "            try:\n",
    "                indices2use = potEEGtrigs[max(0, idx - 10):idx] # indices2use is for calculating average delay\n",
    "            except IndexError:\n",
    "                indices2use = potEEGtrigs[:idx]\n",
    "            \n",
    "            indices2use = indices2use[assignments[indices2use] > 0]  # use only indices which are not non-zero\n",
    "            \n",
    "            if len(indices2use) > 0:\n",
    "                #Codex generated code:\n",
    "                recent_py_indices = [assigned_py_trigs[eeg_idx][-1] for eeg_idx in indices2use if assigned_py_trigs[eeg_idx]]\n",
    "                if len(recent_py_indices) == len(indices2use):\n",
    "                    recent_py_indices = np.array(recent_py_indices, dtype=int)\n",
    "                    currentDelay = np.mean(py_times[recent_py_indices] - eeg_times[indices2use])\n",
    "                else:\n",
    "                    currentDelay = 0\n",
    "            else:\n",
    "                currentDelay = 0\n",
    "                \n",
    "            print('currentDelay =', currentDelay)\n",
    "\n",
    "            # Decide which csv event fits better\n",
    "            if np.sign(delay1) != np.sign(delay2):\n",
    "                betterFit = 'first' if np.sign(currentDelay) == np.sign(delay1) else 'second'\n",
    "            else:\n",
    "                betterFit = 'first' if abs(delay1 - currentDelay) < abs(delay2 - currentDelay) else 'second'\n",
    "\n",
    "            # Reassign based on the better fit\n",
    "            if betterFit == 'first':\n",
    "                assignments[closest_eeg_idx] = 1\n",
    "                if not flagMissedEEG:\n",
    "                    # Assign the next closest EEG trigger\n",
    "                    next_idx = potEEGtrigs[idx + 1] if idx + 1 < len(potEEGtrigs) else None\n",
    "                    if next_idx is not None:\n",
    "                        assignments[next_idx] += 1\n",
    "                        assigned_py_trigs[next_idx].append(py_idx)\n",
    "                    else:\n",
    "                        unassigned_py_trigs_idx.append(py_idx)\n",
    "                else:\n",
    "                    unassigned_py_trigs_idx.append(py_idx)\n",
    "            else:\n",
    "                # Replace the assignment with the current csv event\n",
    "                prev_csv = assigned_py_trigs[closest_eeg_idx][0]\n",
    "                assigned_py_trigs[closest_eeg_idx] = [py_idx]\n",
    "                if not flagMissedEEG:\n",
    "                    # Try to reassign previous csv event to another EEG trigger\n",
    "                    prev_idx = potEEGtrigs[idx - 1] if idx - 1 >= 0 else None\n",
    "                    if prev_idx is not None and assignments[prev_idx] < 1:\n",
    "                        assignments[prev_idx] += 1\n",
    "                        assigned_py_trigs[prev_idx].append(prev_csv)\n",
    "                    else:\n",
    "                        unassigned_py_trigs_idx.append(prev_csv)\n",
    "                else:\n",
    "                    unassigned_py_trigs_idx.append(prev_csv)\n",
    "        \n",
    "        else: # if no double assignment detected \n",
    "            # Standard assignment without double assignments\n",
    "            assigned_py_trigs[closest_eeg_idx].append(py_idx)\n",
    "            \n",
    "print(assigned_py_trigs)"
   ]
  },
  {
   "cell_type": "code",
   "execution_count": null,
   "metadata": {},
   "outputs": [],
   "source": [
    "assignments"
   ]
  },
  {
   "cell_type": "code",
   "execution_count": null,
   "metadata": {},
   "outputs": [],
   "source": [
    "#How many assigned py triggers are there?\n",
    "print('There are ' + str(sum(len(x) for x in assigned_py_trigs)) + ' assigned_py_trigs')\n",
    "\n",
    "#Do the same for unassigend_py_trigs_idx\n",
    "print('There are ' + str(len(unassigned_py_trigs_idx)) + ' unassigned')\n",
    "\n",
    "#matplotlib widget is already running from above, so\n",
    "plt.figure()\n",
    "\n",
    "\n",
    "# look at the delay distribution between the triggers:\n",
    "delays = []\n",
    "for eeg_idx, py_indices in enumerate(assigned_py_trigs):\n",
    "    for py_idx in py_indices:\n",
    "        delay = py_times[py_idx] - eeg_times[eeg_idx]\n",
    "        delays.append(delay)\n",
    "delays = np.array(delays)\n",
    "plt.hist(delays, bins=30)\n",
    "plt.xlabel('Delay (s)')\n",
    "plt.ylabel('Count')\n",
    "plt.title('Distribution of Delays between Assigned Triggers')\n",
    "plt.show()\n",
    "\n"
   ]
  },
  {
   "cell_type": "code",
   "execution_count": null,
   "metadata": {},
   "outputs": [],
   "source": [
    "assigned_py_trigs"
   ]
  },
  {
   "cell_type": "code",
   "execution_count": null,
   "metadata": {},
   "outputs": [],
   "source": []
  },
  {
   "cell_type": "code",
   "execution_count": null,
   "metadata": {},
   "outputs": [],
   "source": []
  }
 ],
 "metadata": {
  "kernelspec": {
   "display_name": "osl",
   "language": "python",
   "name": "python3"
  },
  "language_info": {
   "codemirror_mode": {
    "name": "ipython",
    "version": 3
   },
   "file_extension": ".py",
   "mimetype": "text/x-python",
   "name": "python",
   "nbconvert_exporter": "python",
   "pygments_lexer": "ipython3",
   "version": "3.8.16"
  }
 },
 "nbformat": 4,
 "nbformat_minor": 2
}
