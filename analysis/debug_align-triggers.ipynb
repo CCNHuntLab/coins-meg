{
 "cells": [
  {
   "cell_type": "code",
   "execution_count": 57,
   "metadata": {},
   "outputs": [],
   "source": [
    "import os\n",
    "import os.path as op\n",
    "import coinsmeg_data as coinsmeg\n",
    "from glob import glob\n",
    "import pathlib\n",
    "import mne\n",
    "import re\n",
    "import pandas as pd\n",
    "import numpy as np"
   ]
  },
  {
   "cell_type": "code",
   "execution_count": 58,
   "metadata": {},
   "outputs": [],
   "source": [
    "############## ------- Directories ---------- ############\n",
    "\n",
    "# Directories\n",
    "data_dir = coinsmeg.RAW_DIR # this is the same as BASE_DIR as raw data is stored in the base directory\n",
    "maxfiltered_dir = op.join(coinsmeg.DERIVATIVES_DIR, \"maxfiltered\") # the input\n",
    "aligned_dir = op.join(coinsmeg.DERIVATIVES_DIR, \"aligned\") # the output\n",
    "\n",
    "# Get subjects\n",
    "sub_run_combo = 'sub-04_run-4'\n",
    "subject_id, run_id = sub_run_combo.split('_') # will produce subject_id = 'sub-XX', run_id = 'run-X'\n",
    "run_number = int(re.search(r'\\d+', run_id).group()) # extract number after 'run-"
   ]
  },
  {
   "cell_type": "code",
   "execution_count": 59,
   "metadata": {},
   "outputs": [],
   "source": [
    "fif_file = f'{maxfiltered_dir}/{subject_id}/{subject_id}_ses-2-meg_task-coinsmeg_{run_id}_meg_transsss.fif'\n",
    "beh_file = coinsmeg.get_sub_behav_fpath(subject_id,run_number)"
   ]
  },
  {
   "cell_type": "code",
   "execution_count": 60,
   "metadata": {},
   "outputs": [
    {
     "data": {
      "text/plain": [
       "'/ohba/pi/lhunt/datasets/coins-meg_data/sub-04/ses-2-meg/beh/sub-04_ses-2-meg_task-coinsmeg_run-4.csv'"
      ]
     },
     "execution_count": 60,
     "metadata": {},
     "output_type": "execute_result"
    }
   ],
   "source": [
    "beh_file"
   ]
  },
  {
   "cell_type": "code",
   "execution_count": 61,
   "metadata": {},
   "outputs": [
    {
     "data": {
      "text/plain": [
       "{'blockEnd': 20,\n",
       " 'blockStart': 10,\n",
       " 'expEnd': 105,\n",
       " 'expStart': 100,\n",
       " 'keyDown': 6,\n",
       " 'keyLeft': 4,\n",
       " 'keyRelease': 7,\n",
       " 'keyRight': 3,\n",
       " 'keyUp': 5,\n",
       " 'laserHit': 1,\n",
       " 'laserMiss': 2}"
      ]
     },
     "execution_count": 61,
     "metadata": {},
     "output_type": "execute_result"
    }
   ],
   "source": [
    "coinsmeg.EVENT_ID"
   ]
  },
  {
   "cell_type": "code",
   "execution_count": 62,
   "metadata": {},
   "outputs": [],
   "source": [
    "valid_triggers = list(coinsmeg.EVENT_ID.values())\n",
    "overlapTriggers = [value + 1 for value in valid_triggers] + [value + 2 for value in valid_triggers]"
   ]
  },
  {
   "cell_type": "code",
   "execution_count": 63,
   "metadata": {},
   "outputs": [],
   "source": [
    "minLaserDist = 0.08"
   ]
  },
  {
   "cell_type": "code",
   "execution_count": 64,
   "metadata": {},
   "outputs": [],
   "source": [
    "############ ============== REQUIRED FUNCTIONS ========================= ##################\n",
    "\n",
    "def calculate_block_times(raw, all_events):\n",
    "    \"\"\"\n",
    "    For an EEG dataset in MNE-Python, determines the start and end times of blocks.\n",
    "    \n",
    "    Parameters:\n",
    "    - all_events: EEG events extracted from MNE Raw object \n",
    "\n",
    "    Returns:\n",
    "    - eeg_block_times: A dictionary with block start and end indices, durations in minutes, \n",
    "                       and start/end times in seconds.\n",
    "    \"\"\"\n",
    "    trig_values = all_events[:, 2]  # Event trigger values\n",
    "\n",
    "    # Identify Block Start and End Indices\n",
    "    trig_blockStart = coinsmeg.EVENT_ID['blockStart']\n",
    "    trig_blockEnd = coinsmeg.EVENT_ID['blockEnd']\n",
    "\n",
    "    blockStart_idx = np.where(trig_values == trig_blockStart)[0]\n",
    "    blockEnd_idx = np.where(trig_values == trig_blockEnd)[0]\n",
    "\n",
    "    if len(blockStart_idx) != 4 or len(blockEnd_idx) != 4:\n",
    "        raise ValueError(\"Wrong number of block triggers detected\")\n",
    "    else:\n",
    "        print(\"THere are four block start and end triggers.\")\n",
    "\n",
    "    # Calculate Block Durations (in minutes)\n",
    "    # Convert the sample times to actual time in seconds\n",
    "    blockStart_times = raw.times[all_events[blockStart_idx, 0]]\n",
    "    blockEnd_times = raw.times[all_events[blockEnd_idx, 0]]\n",
    "\n",
    "    block_durations = (blockEnd_times - blockStart_times) / 60  # Convert seconds to minutes\n",
    "\n",
    "    # Warn about Suspicious Block Durations\n",
    "    if any(block_durations > 4) or any(block_durations < 3):\n",
    "        print(\"Warning: Suspicious block durations\")\n",
    "\n",
    "    # Collect and Return Block Information\n",
    "    eeg_block_times = {\n",
    "        'eventIndices': np.column_stack((blockStart_idx, blockEnd_idx)),\n",
    "        'durationsInMin': block_durations,\n",
    "        'bordersInSecs': np.column_stack((blockStart_times, blockEnd_times))\n",
    "    }\n",
    "\n",
    "    return eeg_block_times\n"
   ]
  },
  {
   "cell_type": "code",
   "execution_count": 65,
   "metadata": {},
   "outputs": [],
   "source": [
    "def extract_csv_events(blockData, block_i):\n",
    "        \n",
    "    \"\"\"\n",
    "    From a session's csv file, extract csv events for the specified block. \n",
    "    Note there are four blocks in every session csv file.\n",
    "    \"\"\"\n",
    "\n",
    "    blockData_currBlock = blockData[blockData.blockID == block_i]\n",
    "    nFrames = blockData_currBlock['currentFrame'].iloc[-1]# Get the last element of blockData['currentFrame']\n",
    "    # convert timestamps in frames to time unit (seconds)\n",
    "    fsample = 60\n",
    "    csv_times = np.arange(0, nFrames / fsample, 1 / fsample)\n",
    "    # find indices in triggerValue where the value is greater than 0 (i.e., a trigger was sent)\n",
    "    csv_trigIndex_blockSpace = np.where(blockData_currBlock['triggerValue'] > 0)[0] # which row of framewise block data has trigger\n",
    "    csv_trig_rows = blockData_currBlock.iloc[csv_trigIndex_blockSpace]\n",
    "\n",
    "    csv_times = csv_times[csv_trigIndex_blockSpace]\n",
    "    csv_values = csv_trig_rows.triggerValue\n",
    "\n",
    "    csv_start_value = csv_values[0]\n",
    "    if csv_start_value !=  coinsmeg.EVENT_ID['laserHit'] and csv_start_value != coinsmeg.EVENT_ID['laserMiss']:\n",
    "        print('first trigger in csv file for the block is not a laser event')\n",
    "\n",
    "    csv_trigIndex_trigSpace = np.arange(1, len(csv_values) + 1)\n",
    "\n",
    "    return csv_times, csv_values, csv_start_value, csv_trigIndex_trigSpace, csv_trigIndex_blockSpace\n"
   ]
  },
  {
   "cell_type": "code",
   "execution_count": 66,
   "metadata": {},
   "outputs": [],
   "source": [
    "def extract_eeg_and_align_start(raw, all_events, eeg_block_times, block_i, csv_start_value):\n",
    "   \n",
    "    #### ======== Extract EEG events for the specified block   ========== ####\n",
    "\n",
    "    # Step 1: Extract EEG events for the specified block\n",
    "    start_idx, end_idx = eeg_block_times['eventIndices'][block_i-1] # get the block_i-1 element of eventIndices; contains start and end time of n block\n",
    "    eegEvents = all_events[start_idx:end_idx + 1]  # MNE events are indexed as [start:end+1] in Python\n",
    "\n",
    "    # Extract sample times and event codes for the current block\n",
    "    eeg_times = raw.times[eegEvents[:, 0]]  # Convert sample indices to times in seconds\n",
    "    eeg_values = eegEvents[:, 2]            # Extract the event codes (values) for these events\n",
    "\n",
    "    #### Align EEG time with csv times by setting the first matching event time to zero ####\n",
    "\n",
    "    tmpIdx = np.where(eeg_values == csv_start_value)[0] # gets the indices of elements of eeg_values that match csv_start_value\n",
    "    if len(tmpIdx) == 0:\n",
    "        raise ValueError(\"No matching event found in EEG for the specified csv_start_value.\")\n",
    "\n",
    "    # Get the first event in the EEG file which equals the first event of csv file\n",
    "    # and get the time (in eeg recording) when it happened\n",
    "    eegStartTimeOffset = eeg_times[tmpIdx[0]] # this is the same thing as 'how much earlier did eeg recording start compared to first csv event'\n",
    "\n",
    "    # Subtract the offset to align times, setting the first matching event to time zero\n",
    "    eeg_times = eeg_times - eegStartTimeOffset\n",
    "\n",
    "    # Step 3: Calculate sample indices for the start and end of the block\n",
    "    # Find the sample indices that correspond to the start and end times of the block\n",
    "    eegStartSample = raw.time_as_index(eeg_block_times['bordersInSecs'][block_i-1, 0])[0] # time_as_index coverts seconds to indices, accounting for srate \n",
    "    eegEndSample = raw.time_as_index(eeg_block_times['bordersInSecs'][block_i-1, 1])[0] # both lines return an array of a single element, but we need [0] anyway to extract the element\n",
    "\n",
    "    return eeg_times, eeg_values, eegStartTimeOffset, eegStartSample, eegEndSample\n"
   ]
  },
  {
   "cell_type": "code",
   "execution_count": 67,
   "metadata": {},
   "outputs": [
    {
     "name": "stdout",
     "output_type": "stream",
     "text": [
      "Opening raw data file /ohba/pi/lhunt/datasets/coins-meg_data/derivatives/maxfiltered/sub-04/sub-04_ses-2-meg_task-coinsmeg_run-4_meg_transsss.fif...\n",
      "    Range : 5000 ... 837999 =      5.000 ...   837.999 secs\n",
      "Ready.\n"
     ]
    },
    {
     "name": "stderr",
     "output_type": "stream",
     "text": [
      "/tmp/ipykernel_3447094/898605740.py:3: RuntimeWarning: This filename (/ohba/pi/lhunt/datasets/coins-meg_data/derivatives/maxfiltered/sub-04/sub-04_ses-2-meg_task-coinsmeg_run-4_meg_transsss.fif) does not conform to MNE naming conventions. All raw files should end with raw.fif, raw_sss.fif, raw_tsss.fif, _meg.fif, _eeg.fif, _ieeg.fif, raw.fif.gz, raw_sss.fif.gz, raw_tsss.fif.gz, _meg.fif.gz, _eeg.fif.gz or _ieeg.fif.gz\n",
      "  raw = mne.io.read_raw_fif(fif_file, preload=True)\n"
     ]
    },
    {
     "name": "stdout",
     "output_type": "stream",
     "text": [
      "Reading 0 ... 832999  =      0.000 ...   832.999 secs...\n"
     ]
    },
    {
     "name": "stdout",
     "output_type": "stream",
     "text": [
      "2867 events found\n",
      "Event IDs: [  1   2   3   4   5   6   7  10  20 100 105]\n"
     ]
    }
   ],
   "source": [
    "# Load in EEG data and wrangle the events a bit\n",
    "\n",
    "raw = mne.io.read_raw_fif(fif_file, preload=True)\n",
    "all_events = mne.find_events(raw, min_duration=0.005)\n",
    "#exclude_event_ids = [10, 20, 100, 105]\n",
    "\n",
    "# Step 3: Filter to only include events not in the exclude list\n",
    "#stim_events = all_events[~np.isin(all_events[:, 2], exclude_event_ids)]"
   ]
  },
  {
   "cell_type": "code",
   "execution_count": 68,
   "metadata": {},
   "outputs": [],
   "source": [
    "blockData = pd.read_csv(beh_file,usecols=range(12))\n",
    "block_i = 1"
   ]
  },
  {
   "cell_type": "code",
   "execution_count": 69,
   "metadata": {},
   "outputs": [],
   "source": [
    "csv_times, csv_values, csv_start_value, csv_trigIndex_trigSpace, csv_trigIndex_blockSpace = extract_csv_events(blockData, 1)"
   ]
  },
  {
   "cell_type": "code",
   "execution_count": 70,
   "metadata": {},
   "outputs": [
    {
     "name": "stdout",
     "output_type": "stream",
     "text": [
      "THere are four block start and end triggers.\n"
     ]
    }
   ],
   "source": [
    "## Now the EEG triggers\n",
    "eeg_block_times = calculate_block_times(raw, all_events)"
   ]
  },
  {
   "cell_type": "code",
   "execution_count": 71,
   "metadata": {},
   "outputs": [],
   "source": [
    "eeg_times, eeg_values, eegStartTimeOffset, eegStartSample, eegEndSample = extract_eeg_and_align_start(raw, all_events, eeg_block_times, block_i, csv_start_value)"
   ]
  },
  {
   "cell_type": "code",
   "execution_count": 72,
   "metadata": {},
   "outputs": [],
   "source": [
    "## Find the indices of eeg_vals that are not in csv vals \n",
    "#toremove = ~np.isin(eeg_values, csv_values)\n",
    "\n",
    "# Remove those indices from eeg_vals and eeg_times\n",
    "#eeg_values = eeg_values[~toremove]\n",
    "#eeg_times = eeg_times[~toremove]"
   ]
  },
  {
   "cell_type": "code",
   "execution_count": 92,
   "metadata": {},
   "outputs": [
    {
     "name": "stdout",
     "output_type": "stream",
     "text": [
      "trig_df_py length is  762\n"
     ]
    }
   ],
   "source": [
    "'''\n",
    "# combine timing and trigger info into a single pandas DataFrame\n",
    "trig_df_eeg = pd.DataFrame({'timing': eeg_times, 'trigger': eeg_values})\n",
    "trig_df_py = pd.DataFrame({'timing': csv_times, 'trigger': csv_values})\n",
    "print('trig_df_py length is ', len(trig_df_py))\n",
    "trig_df_py['trigger'] = trig_df_py['trigger'].astype('int64') # so that variable type is equivalent\n",
    "'''"
   ]
  },
  {
   "cell_type": "code",
   "execution_count": null,
   "metadata": {},
   "outputs": [],
   "source": [
    "'''#### ADD DROPPPED TRIGGERS ##########\n",
    "# Initialize the current clock drift between the EEG and behavioral data\n",
    "current_clock_drift = 0\n",
    "\n",
    "# Iterate over each row up to the max length of the two dataframes\n",
    "for i in range(max(len(trig_df_py['trigger']), len(trig_df_eeg['trigger']))):\n",
    "    # Check if the current trigger value or timing (adjusted for clock drift) doesn't match between dataframes\n",
    "    if trig_df_eeg.iloc[i]['trigger'] != trig_df_py.iloc[i]['trigger'] or \\\n",
    "    abs(trig_df_eeg.iloc[i]['timing'] - trig_df_py.iloc[i]['timing'] + current_clock_drift) >= 0.05:\n",
    "        \n",
    "        # if current trigger not matching up between csv and eeg files\n",
    "        # OR if the current timings are off by 50ms, indicating that\n",
    "        # though trigger values may match, there may be a dropped trigger\n",
    "        if (abs(trig_df_eeg.iloc[i + 1]['timing'] - trig_df_py.iloc[i]['timing'] + current_clock_drift) <= 0.05):\n",
    "            print(f'Extra trigger {trig_df_eeg.iloc[i][\"trigger\"]} detected in trig_df_eeg at position {i}; has been removed.')\n",
    "            # In case of an extra trigger in EEG data, remove the corresponding EEG trigger and its timing\n",
    "            trig_df_eeg = trig_df_eeg.drop(trig_df_eeg.index[i]).reset_index(drop=True)\n",
    "        else:\n",
    "            # If the trigger is missing or timings are off, consider the trigger dropped in EEG data\n",
    "            print(f'Trigger {trig_df_py.iloc[i][\"trigger\"]} was dropped in trig_df_eeg at position {i}!')\n",
    "            # Insert the corresponding behavioral trigger into the EEG data\n",
    "            trig_df_eeg = pd.concat([trig_df_eeg.iloc[:i], pd.DataFrame(trig_df_py.iloc[[i]].values, columns=trig_df_eeg.columns), trig_df_eeg.iloc[i:]]).reset_index(drop=True)\n",
    "    else:\n",
    "        # If triggers and timings match, update the current clock drift based on the difference\n",
    "        current_clock_drift = trig_df_py.iloc[i]['timing'] - trig_df_eeg.iloc[i]['timing']'''"
   ]
  },
  {
   "cell_type": "code",
   "execution_count": 76,
   "metadata": {},
   "outputs": [
    {
     "data": {
      "text/plain": [
       "False"
      ]
     },
     "execution_count": 76,
     "metadata": {},
     "output_type": "execute_result"
    }
   ],
   "source": [
    "#np.array_equal(trig_df_eeg['trigger'].values, trig_df_py['trigger'].values)"
   ]
  },
  {
   "cell_type": "code",
   "execution_count": null,
   "metadata": {},
   "outputs": [],
   "source": [
    "'''# After processing all rows, check if the triggers in both dataframes now fully match\n",
    "if np.array_equal(trig_df_eeg['trigger'].values, trig_df_py['trigger'].values):\n",
    "    # If all triggers match, print a success message\n",
    "    print('All good - python trigger values and eeg trigger values match for ', sub_run_combo)\n",
    "else:\n",
    "    # If there's still a mismatch, raise an error\n",
    "    raise ValueError('python trigger values and eeg trigger values not matched for ' , sub_run_combo)\n",
    "\n",
    "print('trig_df_py length leaving add_dropped_triggers is ', len(trig_df_py))\n",
    "print('trig_df_eeg length leaving add_dropped_triggers is ', len(trig_df_eeg))'''"
   ]
  },
  {
   "cell_type": "markdown",
   "metadata": {},
   "source": [
    "### Now the trickier aligning fun begins..."
   ]
  },
  {
   "cell_type": "code",
   "execution_count": 17,
   "metadata": {},
   "outputs": [],
   "source": [
    "# Initialize assignments and tracking arrays\n",
    "assignments = np.zeros(len(eeg_values), dtype=int)  # Track number of assignments per EEG event\n",
    "assigned_csv_trigs = [[] for _ in range(len(eeg_values))]  # Track assigned csv triggers\n",
    "unassigned_csv_trigs_idx = []  # Track unassigned csv triggers\n"
   ]
  },
  {
   "cell_type": "code",
   "execution_count": 18,
   "metadata": {},
   "outputs": [],
   "source": [
    "# Find the indices of eeg_values that are not in csv_values (the csv file containing ground-truth trigger values)\n",
    "toremove = ~np.isin(eeg_values, csv_values)"
   ]
  },
  {
   "cell_type": "code",
   "execution_count": 19,
   "metadata": {},
   "outputs": [],
   "source": [
    "# Remove those indices from eeg_values and eeg_times\n",
    "eeg_values = eeg_values[~toremove]\n",
    "eeg_times = eeg_times[~toremove]"
   ]
  },
  {
   "cell_type": "code",
   "execution_count": 1,
   "metadata": {},
   "outputs": [
    {
     "ename": "NameError",
     "evalue": "name 'csv_values' is not defined",
     "output_type": "error",
     "traceback": [
      "\u001b[0;31m---------------------------------------------------------------------------\u001b[0m",
      "\u001b[0;31mNameError\u001b[0m                                 Traceback (most recent call last)",
      "Cell \u001b[0;32mIn[1], line 1\u001b[0m\n\u001b[0;32m----> 1\u001b[0m \u001b[38;5;28;01mfor\u001b[39;00m csv_idx \u001b[38;5;129;01min\u001b[39;00m \u001b[38;5;28menumerate\u001b[39m(\u001b[43mcsv_values\u001b[49m):\n\u001b[1;32m      2\u001b[0m     \u001b[38;5;28mprint\u001b[39m(csv_idx)\n",
      "\u001b[0;31mNameError\u001b[0m: name 'csv_values' is not defined"
     ]
    }
   ],
   "source": [
    "for csv_idx in enumerate(csv_values):\n",
    "    print(csv_idx)"
   ]
  },
  {
   "cell_type": "code",
   "execution_count": 232,
   "metadata": {},
   "outputs": [
    {
     "ename": "ValueError",
     "evalue": "setting an array element with a sequence. The requested array has an inhomogeneous shape after 1 dimensions. The detected shape was (758,) + inhomogeneous part.",
     "output_type": "error",
     "traceback": [
      "\u001b[0;31m---------------------------------------------------------------------------\u001b[0m",
      "\u001b[0;31mValueError\u001b[0m                                Traceback (most recent call last)",
      "Cell \u001b[0;32mIn[232], line 48\u001b[0m\n\u001b[1;32m     46\u001b[0m indices2use \u001b[38;5;241m=\u001b[39m indices2use[assignments[indices2use] \u001b[38;5;241m>\u001b[39m \u001b[38;5;241m0\u001b[39m]  \u001b[38;5;66;03m# Non-empty assignments\u001b[39;00m\n\u001b[1;32m     47\u001b[0m \u001b[38;5;28;01mif\u001b[39;00m \u001b[38;5;28mlen\u001b[39m(indices2use) \u001b[38;5;241m>\u001b[39m \u001b[38;5;241m0\u001b[39m:\n\u001b[0;32m---> 48\u001b[0m     currentDelay \u001b[38;5;241m=\u001b[39m np\u001b[38;5;241m.\u001b[39mmean(csv_times[\u001b[43mnp\u001b[49m\u001b[38;5;241;43m.\u001b[39;49m\u001b[43marray\u001b[49m\u001b[43m(\u001b[49m\u001b[43massigned_csv_trigs\u001b[49m\u001b[43m)\u001b[49m[indices2use]] \u001b[38;5;241m-\u001b[39m eeg_times[indices2use])\n\u001b[1;32m     49\u001b[0m \u001b[38;5;28;01melse\u001b[39;00m:\n\u001b[1;32m     50\u001b[0m     currentDelay \u001b[38;5;241m=\u001b[39m \u001b[38;5;241m0\u001b[39m\n",
      "\u001b[0;31mValueError\u001b[0m: setting an array element with a sequence. The requested array has an inhomogeneous shape after 1 dimensions. The detected shape was (758,) + inhomogeneous part."
     ]
    }
   ],
   "source": [
    "for csv_idx in enumerate(csv_values):\n",
    "\n",
    "    # make eeg_values the same length as csv values\n",
    "    eeg_values2 = np.append(eeg_values, np.ones(len(csv_values) - len(eeg_values)) * np.nan)\n",
    "\n",
    "    # Find potential EEG triggers with matching values\n",
    "    potEEGtrigs = np.where(eeg_values2 == csv_values)[0]\n",
    "    \n",
    "    if len(potEEGtrigs) == 0:\n",
    "        # No matching EEG value found for the csv event\n",
    "        print(\"Warning: Unassigned MATLAB event because no matching EEG value found...\")\n",
    "        unassigned_csv_trigs_idx.append(csv_idx)\n",
    "    else:\n",
    "        # Find the closest EEG trigger by time\n",
    "        time_diffs = np.abs(eeg_times[potEEGtrigs] - csv_times[csv_idx])\n",
    "        idx = np.argmin(time_diffs)  # Index of the closest time match\n",
    "        closest_eeg_idx = potEEGtrigs[idx]\n",
    "\n",
    "        # Assign the csv trigger to this EEG trigger\n",
    "        assignments[closest_eeg_idx] += 1\n",
    "\n",
    "        # Check for multiple assignments to the same EEG trigger\n",
    "        if assignments[closest_eeg_idx] > 1:\n",
    "            # Double assignment detected - resolve based on timing\n",
    "\n",
    "            # Times of the csv events in question\n",
    "            t1 = csv_times[assigned_csv_trigs[closest_eeg_idx][0]]\n",
    "            t2 = csv_times[csv_idx]\n",
    "\n",
    "            # Check if the two csv events are very close in time\n",
    "            if t2 - t1 < minLaserDist:\n",
    "                flagMissedEEG = True\n",
    "            else:\n",
    "                flagMissedEEG = False\n",
    "\n",
    "            # Calculate delays for each assignment\n",
    "            delay1 = t1 - eeg_times[closest_eeg_idx]\n",
    "            delay2 = t2 - eeg_times[closest_eeg_idx]\n",
    "\n",
    "            # Estimate the current average delay\n",
    "            try:\n",
    "                indices2use = potEEGtrigs[max(0, idx - 10):idx]\n",
    "            except IndexError:\n",
    "                indices2use = potEEGtrigs[:idx]\n",
    "            \n",
    "            indices2use = indices2use[assignments[indices2use] > 0]  # Non-empty assignments\n",
    "            if len(indices2use) > 0:\n",
    "                currentDelay = np.mean(csv_times[np.array(assigned_csv_trigs)[indices2use]] - eeg_times[indices2use])\n",
    "            else:\n",
    "                currentDelay = 0\n",
    "\n",
    "            # Decide which csv event fits better\n",
    "            if np.sign(delay1) != np.sign(delay2):\n",
    "                betterFit = 'first' if np.sign(currentDelay) == np.sign(delay1) else 'second'\n",
    "            else:\n",
    "                betterFit = 'first' if abs(delay1 - currentDelay) < abs(delay2 - currentDelay) else 'second'\n",
    "\n",
    "            # Reassign based on the better fit\n",
    "            if betterFit == 'first':\n",
    "                assignments[closest_eeg_idx] = 1\n",
    "                if not flagMissedEEG:\n",
    "                    # Assign the next closest EEG trigger\n",
    "                    next_idx = potEEGtrigs[idx + 1] if idx + 1 < len(potEEGtrigs) else None\n",
    "                    if next_idx is not None:\n",
    "                        assignments[next_idx] += 1\n",
    "                        assigned_csv_trigs[next_idx].append(csv_idx)\n",
    "                    else:\n",
    "                        unassigned_csv_trigs_idx.append(csv_idx)\n",
    "                else:\n",
    "                    unassigned_csv_trigs_idx.append(csv_idx)\n",
    "            else:\n",
    "                # Replace the assignment with the current csv event\n",
    "                prev_csv = assigned_csv_trigs[closest_eeg_idx][0]\n",
    "                assigned_csv_trigs[closest_eeg_idx] = [csv_idx]\n",
    "                if not flagMissedEEG:\n",
    "                    # Try to reassign previous csv event to another EEG trigger\n",
    "                    prev_idx = potEEGtrigs[idx - 1] if idx - 1 >= 0 else None\n",
    "                    if prev_idx is not None and assignments[prev_idx] < 1:\n",
    "                        assignments[prev_idx] += 1\n",
    "                        assigned_csv_trigs[prev_idx].append(prev_csv)\n",
    "                    else:\n",
    "                        unassigned_csv_trigs_idx.append(prev_csv)\n",
    "                else:\n",
    "                    unassigned_csv_trigs_idx.append(prev_csv)\n",
    "        else:\n",
    "            # Standard assignment without double assignments\n",
    "            assigned_csv_trigs[closest_eeg_idx].append(csv_idx)\n"
   ]
  }
 ],
 "metadata": {
  "kernelspec": {
   "display_name": "osl",
   "language": "python",
   "name": "python3"
  },
  "language_info": {
   "codemirror_mode": {
    "name": "ipython",
    "version": 3
   },
   "file_extension": ".py",
   "mimetype": "text/x-python",
   "name": "python",
   "nbconvert_exporter": "python",
   "pygments_lexer": "ipython3",
   "version": "3.8.16"
  }
 },
 "nbformat": 4,
 "nbformat_minor": 2
}
