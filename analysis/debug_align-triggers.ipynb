{
 "cells": [
  {
   "cell_type": "code",
   "execution_count": 155,
   "metadata": {},
   "outputs": [],
   "source": [
    "import os\n",
    "import os.path as op\n",
    "import coinsmeg_data as coinsmeg\n",
    "from glob import glob\n",
    "import pathlib\n",
    "import mne\n",
    "import re\n",
    "import pandas as pd\n",
    "import numpy as np"
   ]
  },
  {
   "cell_type": "code",
   "execution_count": 156,
   "metadata": {},
   "outputs": [],
   "source": [
    "############## ------- Directories ---------- ############\n",
    "\n",
    "# Directories\n",
    "data_dir = coinsmeg.RAW_DIR # this is the same as BASE_DIR as raw data is stored in the base directory\n",
    "maxfiltered_dir = op.join(coinsmeg.DERIVATIVES_DIR, \"maxfiltered\") # the input\n",
    "aligned_dir = op.join(coinsmeg.DERIVATIVES_DIR, \"aligned\") # the output\n",
    "\n",
    "# Get subjects\n",
    "sub_run_combo = 'sub-04_run-4'\n",
    "subject_id, run_id = sub_run_combo.split('_') # will produce subject_id = 'sub-XX', run_id = 'run-X'\n",
    "run_number = int(re.search(r'\\d+', run_id).group()) # extract number after 'run-"
   ]
  },
  {
   "cell_type": "code",
   "execution_count": 157,
   "metadata": {},
   "outputs": [],
   "source": [
    "fif_file = f'{maxfiltered_dir}/{subject_id}/{subject_id}_ses-2-meg_task-coinsmeg_{run_id}_meg_transsss.fif'\n",
    "beh_file = coinsmeg.get_sub_behav_fpath(subject_id,run_number)"
   ]
  },
  {
   "cell_type": "code",
   "execution_count": 158,
   "metadata": {},
   "outputs": [
    {
     "data": {
      "text/plain": [
       "{'blockEnd': 20,\n",
       " 'blockStart': 10,\n",
       " 'expEnd': 105,\n",
       " 'expStart': 100,\n",
       " 'keyDown': 6,\n",
       " 'keyLeft': 4,\n",
       " 'keyRelease': 7,\n",
       " 'keyRight': 3,\n",
       " 'keyUp': 5,\n",
       " 'laserHit': 1,\n",
       " 'laserMiss': 2}"
      ]
     },
     "execution_count": 158,
     "metadata": {},
     "output_type": "execute_result"
    }
   ],
   "source": [
    "coinsmeg.EVENT_ID"
   ]
  },
  {
   "cell_type": "code",
   "execution_count": 184,
   "metadata": {},
   "outputs": [],
   "source": [
    "valid_triggers = list(coinsmeg.EVENT_ID.values())\n",
    "overlapTriggers = [value + 1 for value in valid_triggers] + [value + 2 for value in valid_triggers]"
   ]
  },
  {
   "cell_type": "code",
   "execution_count": 161,
   "metadata": {},
   "outputs": [],
   "source": [
    "minLaserDist = 0.08"
   ]
  },
  {
   "cell_type": "code",
   "execution_count": null,
   "metadata": {},
   "outputs": [],
   "source": [
    "############ ============== REQUIRED FUNCTIONS ========================= ##################\n",
    "\n",
    "def calculate_block_times(all_events):\n",
    "    \"\"\"\n",
    "    For an EEG dataset in MNE-Python, determines the start and end times of blocks.\n",
    "    \n",
    "    Parameters:\n",
    "    - all_events: EEG events extracted from MNE Raw object \n",
    "\n",
    "    Returns:\n",
    "    - eeg_block_times: A dictionary with block start and end indices, durations in minutes, \n",
    "                       and start/end times in seconds.\n",
    "    \"\"\"\n",
    "    trig_values = all_events[:, 2]  # Event trigger values\n",
    "\n",
    "    # Identify Block Start and End Indices\n",
    "    trig_blockStart = coinsmeg.EVENT_ID['blockStart']\n",
    "    trig_blockEnd = coinsmeg.EVENT_ID['blockEnd']\n",
    "\n",
    "    blockStart_idx = np.where(trig_values == trig_blockStart)[0]\n",
    "    blockEnd_idx = np.where(trig_values == trig_blockEnd)[0]\n",
    "\n",
    "    if len(blockStart_idx) != 4 or len(blockEnd_idx) != 4:\n",
    "        raise ValueError(\"Wrong number of block triggers detected\")\n",
    "    else:\n",
    "        print(\"THere are four block start and end triggers.\")\n",
    "\n",
    "    # Calculate Block Durations (in minutes)\n",
    "    # Convert the sample times to actual time in seconds\n",
    "    blockStart_times = raw.times[all_events[blockStart_idx, 0]]\n",
    "    blockEnd_times = raw.times[all_events[blockEnd_idx, 0]]\n",
    "\n",
    "    block_durations = (blockEnd_times - blockStart_times) / 60  # Convert seconds to minutes\n",
    "\n",
    "    # Warn about Suspicious Block Durations\n",
    "    if any(block_durations > 4) or any(block_durations < 3):\n",
    "        print(\"Warning: Suspicious block durations\")\n",
    "\n",
    "    # Collect and Return Block Information\n",
    "    eeg_block_times = {\n",
    "        'eventIndices': np.column_stack((blockStart_idx, blockEnd_idx)),\n",
    "        'durationsInMin': block_durations,\n",
    "        'bordersInSecs': np.column_stack((blockStart_times, blockEnd_times))\n",
    "    }\n",
    "\n",
    "    return eeg_block_times\n"
   ]
  },
  {
   "cell_type": "code",
   "execution_count": null,
   "metadata": {},
   "outputs": [],
   "source": [
    "def extract_csv_events(blockData, block_i):\n",
    "        \n",
    "    \"\"\"\n",
    "    From a session's csv file, extract csv events for the specified block. \n",
    "    Note there are four blocks in every session csv file.\n",
    "    \"\"\"\n",
    "\n",
    "    blockData_currBlock = blockData[blockData.blockID == block_i]\n",
    "    nFrames = blockData_currBlock['currentFrame'].iloc[-1]# Get the last element of blockData['currentFrame']\n",
    "    # convert timestamps in frames to time unit (seconds)\n",
    "    fsample = 60\n",
    "    csv_times = np.arange(0, nFrames / fsample, 1 / fsample)\n",
    "    # find indices in triggerValue where the value is greater than 0 (i.e., a trigger was sent)\n",
    "    csv_trigIndex_blockSpace = np.where(blockData_currBlock['triggerValue'] > 0)[0] # which row of framewise block data has trigger\n",
    "    csv_trig_rows = blockData_currBlock.iloc[csv_trigIndex_blockSpace]\n",
    "\n",
    "    csv_time = csv_times[csv_trigIndex_blockSpace]\n",
    "    csv_values = csv_trig_rows.triggerValue\n",
    "\n",
    "    csv_start_value = csv_values[0]\n",
    "    if csv_start_value !=  coinsmeg.EVENT_ID['laserHit'] and csv_start_value != coinsmeg.EVENT_ID['laserMiss']:\n",
    "        print('first trigger in csv file for the block is not a laser event')\n",
    "\n",
    "    csv_trigIndex_trigSpace = np.arange(1, len(csv_values) + 1)\n",
    "\n",
    "    return csv_times, csv_values, csv_start_value, csv_trigIndex_trigSpace, csv_trigIndex_blockSpace\n"
   ]
  },
  {
   "cell_type": "code",
   "execution_count": 162,
   "metadata": {},
   "outputs": [
    {
     "name": "stdout",
     "output_type": "stream",
     "text": [
      "Opening raw data file /ohba/pi/lhunt/datasets/coins-meg_data/derivatives/maxfiltered/sub-04/sub-04_ses-2-meg_task-coinsmeg_run-4_meg_transsss.fif...\n",
      "    Range : 5000 ... 837999 =      5.000 ...   837.999 secs\n",
      "Ready.\n",
      "Reading 0 ... 832999  =      0.000 ...   832.999 secs...\n"
     ]
    },
    {
     "name": "stderr",
     "output_type": "stream",
     "text": [
      "/tmp/ipykernel_1402234/898605740.py:3: RuntimeWarning: This filename (/ohba/pi/lhunt/datasets/coins-meg_data/derivatives/maxfiltered/sub-04/sub-04_ses-2-meg_task-coinsmeg_run-4_meg_transsss.fif) does not conform to MNE naming conventions. All raw files should end with raw.fif, raw_sss.fif, raw_tsss.fif, _meg.fif, _eeg.fif, _ieeg.fif, raw.fif.gz, raw_sss.fif.gz, raw_tsss.fif.gz, _meg.fif.gz, _eeg.fif.gz or _ieeg.fif.gz\n",
      "  raw = mne.io.read_raw_fif(fif_file, preload=True)\n"
     ]
    },
    {
     "name": "stdout",
     "output_type": "stream",
     "text": [
      "2867 events found\n",
      "Event IDs: [  1   2   3   4   5   6   7  10  20 100 105]\n"
     ]
    }
   ],
   "source": [
    "# Load in EEG data and wrangle the events a bit\n",
    "\n",
    "raw = mne.io.read_raw_fif(fif_file, preload=True)\n",
    "all_events = mne.find_events(raw, min_duration=0.005)\n",
    "#exclude_event_ids = [10, 20, 100, 105]\n",
    "\n",
    "# Step 3: Filter to only include events not in the exclude list\n",
    "#stim_events = all_events[~np.isin(all_events[:, 2], exclude_event_ids)]"
   ]
  },
  {
   "cell_type": "code",
   "execution_count": 165,
   "metadata": {},
   "outputs": [],
   "source": [
    "blockData = pd.read_csv(beh_file,usecols=range(12))\n",
    "block_i = 1"
   ]
  },
  {
   "cell_type": "code",
   "execution_count": 189,
   "metadata": {},
   "outputs": [],
   "source": [
    "csv_times, csv_values, csv_start_value, csv_trigIndex_trigSpace, csv_trigIndex_blockSpace = extract_csv_events(blockData, 1)"
   ]
  },
  {
   "cell_type": "code",
   "execution_count": 167,
   "metadata": {},
   "outputs": [
    {
     "name": "stdout",
     "output_type": "stream",
     "text": [
      "THere are four block start and end triggers.\n"
     ]
    }
   ],
   "source": [
    "## Now the EEG triggers\n",
    "eeg_block_times = calculate_block_times(all_events)"
   ]
  },
  {
   "cell_type": "code",
   "execution_count": null,
   "metadata": {},
   "outputs": [],
   "source": [
    "def extract_eeg_and_align_start(raw, all_events, eeg_block_times, block_i, csv_start_value):\n",
    "   \n",
    "    #### ======== Extract EEG events for the specified block   ========== ####\n",
    "\n",
    "    # Step 1: Extract EEG events for the specified block\n",
    "    start_idx, end_idx = eeg_block_times['eventIndices'][block_i-1] # get the block_i-1 element of eventIndices; contains start and end time of n block\n",
    "    eegEvents = all_events[start_idx:end_idx + 1]  # MNE events are indexed as [start:end+1] in Python\n",
    "\n",
    "    # Extract sample times and event codes for the current block\n",
    "    eeg_times = raw.times[eegEvents[:, 0]]  # Convert sample indices to times in seconds\n",
    "    eeg_values = eegEvents[:, 2]            # Extract the event codes (values) for these events\n",
    "\n",
    "    #### Align EEG time with csv times by setting the first matching event time to zero ####\n",
    "\n",
    "    tmpIdx = np.where(eeg_values == csv_start_value)[0] # gets the indices of elements of eeg_values that match csv_start_value\n",
    "    if len(tmpIdx) == 0:\n",
    "        raise ValueError(\"No matching event found in EEG for the specified csv_start_value.\")\n",
    "\n",
    "    # Get the first event in the EEG file which equals the first event of csv file\n",
    "    # and get the time (in eeg recording) when it happened\n",
    "    eegStartTimeOffset = eeg_times[tmpIdx[0]] # this is the same thing as 'how much earlier did eeg recording start compared to first csv event'\n",
    "\n",
    "    # Subtract the offset to align times, setting the first matching event to time zero\n",
    "    eeg_times = eeg_times - eegStartTimeOffset\n",
    "\n",
    "    # Step 3: Calculate sample indices for the start and end of the block\n",
    "    # Find the sample indices that correspond to the start and end times of the block\n",
    "    eegStartSample = raw.time_as_index(eeg_block_times['bordersInSecs'][block_i-1, 0])[0] # time_as_index coverts seconds to indices, accounting for srate \n",
    "    eegEndSample = raw.time_as_index(eeg_block_times['bordersInSecs'][block_i-1, 1])[0] # both lines return an array of a single element, but we need [0] anyway to extract the element\n",
    "\n",
    "    return eeg_times, eeg_values, eegStartTimeOffset, eegStartSample, eegEndSample\n"
   ]
  },
  {
   "cell_type": "code",
   "execution_count": 181,
   "metadata": {},
   "outputs": [],
   "source": [
    "## Make a copy of everything!!\n",
    "csv_times_original = csv_times.copy()\n",
    "csv_values_original = csv_values.copy()\n",
    "\n",
    "eeg_times_original = eeg_times.copy()\n",
    "eeg_values_original = eeg_values.copy()"
   ]
  },
  {
   "cell_type": "code",
   "execution_count": null,
   "metadata": {},
   "outputs": [],
   "source": []
  }
 ],
 "metadata": {
  "kernelspec": {
   "display_name": "osl",
   "language": "python",
   "name": "python3"
  },
  "language_info": {
   "codemirror_mode": {
    "name": "ipython",
    "version": 3
   },
   "file_extension": ".py",
   "mimetype": "text/x-python",
   "name": "python",
   "nbconvert_exporter": "python",
   "pygments_lexer": "ipython3",
   "version": "3.8.16"
  }
 },
 "nbformat": 4,
 "nbformat_minor": 2
}
