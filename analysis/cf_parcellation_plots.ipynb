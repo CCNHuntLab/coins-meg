{
 "cells": [
  {
   "cell_type": "markdown",
   "metadata": {},
   "source": [
    "Exploratory notebook to check parcellation data and test parcellation-related functions"
   ]
  },
  {
   "cell_type": "code",
   "execution_count": 1,
   "metadata": {},
   "outputs": [
    {
     "name": "stdout",
     "output_type": "stream",
     "text": [
      "parcel_names ['Anterior Cingulate and Medial Prefrontal Cortex_rh', 'Anterior Cingulate and Medial Prefrontal Cortex_lh', 'Inferior Dorso-Lateral Prefrontal Cortex_rh', 'Inferior Dorso-Lateral Prefrontal Cortex_lh', 'Superior Dorso-Lateral Prefrontal Cortex_rh', 'Superior Dorso-Lateral Prefrontal Cortex_lh', 'Orbital and Polar Frontal Cortex_rh', 'Orbital and Polar Frontal Cortex_lh', 'Inferior Frontal Cortex_rh', 'Inferior Frontal Cortex_lh']\n",
      "parcel_indices [21, 47, 24, 50, 25, 51, 22, 48, 23, 49]\n"
     ]
    }
   ],
   "source": [
    "import cf_parcellation \n",
    "# parcels_indices = [21, 24, 25, 22, 23]\n",
    "parcel_names = [\"Anterior Cingulate and Medial Prefrontal Cortex\",\n",
    "                 \"Inferior Dorso-Lateral Prefrontal Cortex\",\n",
    "                 \"Superior Dorso-Lateral Prefrontal Cortex\",\n",
    "                 \"Orbital and Polar Frontal Cortex\",\n",
    "                 \"Inferior Frontal Cortex\",\n",
    "                 ]\n",
    "# parcels_indices = cf_parcellation.get_parcel_idx_with_names_2hemi(parcel_names)\n",
    "parcel_names = cf_parcellation.get_parcel_names_2hemi(parcel_names)\n",
    "print(\"parcel_names\", parcel_names)\n",
    "parcels_indices = cf_parcellation.get_parcel_idx_with_names(parcel_names)\n",
    "print(\"parcel_indices\", parcels_indices)\n",
    "n_parcels = len(parcels_indices)"
   ]
  },
  {
   "cell_type": "code",
   "execution_count": null,
   "metadata": {},
   "outputs": [
    {
     "name": "stderr",
     "output_type": "stream",
     "text": [
      "/var/folders/0p/8mwmxvqj3tz9f07rkk72z0y00000gn/T/ipykernel_9190/2841619625.py:40: MatplotlibDeprecationWarning: The get_cmap function was deprecated in Matplotlib 3.7 and will be removed two minor releases later. Use ``matplotlib.colormaps[name]`` or ``matplotlib.colormaps.get_cmap(obj)`` instead.\n",
      "  highlight_color = mpl.cm.get_cmap(\"Set1\")(4)\n"
     ]
    },
    {
     "name": "stdout",
     "output_type": "stream",
     "text": [
      "parcellation/glasser52/Glasser52_binary_space-MNI152NLin6_res-1x1x1.nii.gz\n",
      "Number of parcels: 52\n",
      "MNI center coordinates for parcel 21: [ 4.63161132 33.71094711 14.36749413]\n",
      "(182, 218, 182) 0.0 1.0\n",
      "(182, 218, 182) 0.0 1.0\n"
     ]
    },
    {
     "name": "stderr",
     "output_type": "stream",
     "text": [
      "/opt/anaconda3/envs/osl/lib/python3.8/site-packages/nilearn/image/image.py:1066: UserWarning: Data array used to create a new image contains 64-bit ints. This is likely due to creating the array with numpy and passing `int` as the `dtype`. Many tools such as FSL and SPM cannot deal with int64 in Nifti images, so for compatibility the data has been converted to int32.\n",
      "  return new_img_like(niimg, result, niimg.affine)\n"
     ]
    },
    {
     "name": "stdout",
     "output_type": "stream",
     "text": [
      "\n",
      "<class 'nibabel.nifti1.Nifti1Image'>\n",
      "data shape (182, 218, 182)\n",
      "affine:\n",
      "[[  -1.    0.    0.   90.]\n",
      " [   0.    1.    0. -126.]\n",
      " [   0.    0.    1.  -72.]\n",
      " [   0.    0.    0.    1.]]\n",
      "metadata:\n",
      "<class 'nibabel.nifti1.Nifti1Header'> object, endian='<'\n",
      "sizeof_hdr      : 348\n",
      "data_type       : b''\n",
      "db_name         : b''\n",
      "extents         : 0\n",
      "session_error   : 0\n",
      "regular         : b''\n",
      "dim_info        : 0\n",
      "dim             : [  3 182 218 182   1   1   1   1]\n",
      "intent_p1       : 0.0\n",
      "intent_p2       : 0.0\n",
      "intent_p3       : 0.0\n",
      "intent_code     : none\n",
      "datatype        : float64\n",
      "bitpix          : 64\n",
      "slice_start     : 0\n",
      "pixdim          : [-1.  1.  1.  1.  1.  1.  1.  1.]\n",
      "vox_offset      : 0.0\n",
      "scl_slope       : nan\n",
      "scl_inter       : nan\n",
      "slice_end       : 0\n",
      "slice_code      : unknown\n",
      "xyzt_units      : 0\n",
      "cal_max         : 0.0\n",
      "cal_min         : 0.0\n",
      "slice_duration  : 0.0\n",
      "toffset         : 0.0\n",
      "glmax           : 0\n",
      "glmin           : 0\n",
      "descrip         : b''\n",
      "aux_file        : b''\n",
      "qform_code      : unknown\n",
      "sform_code      : aligned\n",
      "quatern_b       : 0.0\n",
      "quatern_c       : 1.0\n",
      "quatern_d       : 0.0\n",
      "qoffset_x       : 90.0\n",
      "qoffset_y       : -126.0\n",
      "qoffset_z       : -72.0\n",
      "srow_x          : [-1.  0.  0. 90.]\n",
      "srow_y          : [   0.    1.    0. -126.]\n",
      "srow_z          : [  0.   0.   1. -72.]\n",
      "intent_name     : b''\n",
      "magic           : b'n+1'\n",
      "\n",
      "[1, 2, 3, 4, 5, 6, 7, 8, 9, 10]\n",
      "0.0\n",
      "10.0\n",
      "parcellation/glasser52/Glasser52_binary_space-MNI152NLin6_res-2x2x2.nii.gz\n",
      "Number of parcels: 52\n",
      "MNI center coordinates for parcel 21: [ 5.39407574 34.38095238 15.13685789]\n",
      "(91, 109, 91) 0.0 1.0\n",
      "(91, 109, 91) 0.0 1.0\n"
     ]
    },
    {
     "name": "stderr",
     "output_type": "stream",
     "text": [
      "/opt/anaconda3/envs/osl/lib/python3.8/site-packages/nilearn/image/image.py:1066: UserWarning: Data array used to create a new image contains 64-bit ints. This is likely due to creating the array with numpy and passing `int` as the `dtype`. Many tools such as FSL and SPM cannot deal with int64 in Nifti images, so for compatibility the data has been converted to int32.\n",
      "  return new_img_like(niimg, result, niimg.affine)\n"
     ]
    }
   ],
   "source": [
    "import matplotlib as mpl\n",
    "import matplotlib.pyplot as plt\n",
    "import numpy as np\n",
    "import nilearn\n",
    "import osl\n",
    "import osl.source_recon.parcellation as parcellation\n",
    "\n",
    "parcellation_filenames = [\n",
    "    # \"fMRI_parcellation_ds2mm.nii.gz\",\n",
    "    # \"aal_cortical_merged_8mm_stacked.nii.gz\",\n",
    "    # \"dk_cortical.nii.gz\",\n",
    "    # \"dk_full.nii.gz\",\n",
    "    # \"fmri_d100_parcellation_with_PCC_reduced_2mm_ss5mm_ds8mm.nii.gz\",\n",
    "    # \"fmri_d100_parcellation_with_PCC_reduced_2mm.nii.gz\",\n",
    "    # \"fmri_d100_parcellation_with_PCC_tighterMay15_v2_2mm.nii.gz\",\n",
    "    # \"fmri_d100_parcellation_with_PCC_tighterMay15_v2_6mm_exclusive.nii.gz\",\n",
    "    # \"fmri_d100_parcellation_with_PCC_tighterMay15_v2_8mm.nii.gz\",\n",
    "    # \"fMRI_parcellation_ds8mm.nii.gz\",\n",
    "    # \"giles_39_binary.nii.gz\",\n",
    "    # \"Glasser50_space-MNI152NLin6_res-8x8x8.nii.gz\",\n",
    "    # \"Glasser52_binary_space-MNI152NLin6_res-8x8x8.nii.gz\",\n",
    "    \"parcellation/glasser52/Glasser52_binary_space-MNI152NLin6_res-1x1x1.nii.gz\",\n",
    "    \"parcellation/glasser52/Glasser52_binary_space-MNI152NLin6_res-2x2x2.nii.gz\",\n",
    "    \"parcellation/glasser52/Glasser52_binary_space-MNI152NLin6_res-8x8x8.nii.gz\",\n",
    "    # \"HarvardOxford-sub-prob-bin-2mm.nii.gz\",\n",
    "    # \"HarvOxf-sub-Schaefer100-combined-2mm_4d_ds8.nii.gz\",\n",
    "    # \"HarvOxf-sub-Schaefer100-combined-2mm_4d.nii.gz\",\n",
    "    # \"HarvOxf-sub-Schaefer100-combined-2mm.nii.gz\",\n",
    "    # \"MNI152_T1_2mm_brain.nii.gz\",\n",
    "    # \"MNI152_T1_8mm_brain.nii.gz\",\n",
    "    # \"reduced_hcp-mmp_2mm.nii.gz\",\n",
    "    # \"reduced_hcp-mmp_8mm.nii.gz\",\n",
    "    # \"Schaefer2018_100Parcels_7Networks_order_FSLMNI152_2mm_4d_ds8.nii.gz\",\n",
    "    # \"Schaefer2018_100Parcels_7Networks_order_FSLMNI152_2mm_4d.nii.gz\",\n",
    "    # \"Schaefer2018_100Parcels_7Networks_order_FSLMNI152_2mm.nii.gz\",\n",
    "    # \"WTA_fMRI_parcellation_ds2mm.nii.gz\",\n",
    "    # \"WTA_fMRI_parcellation_ds8mm.nii.gz\",\n",
    "]\n",
    "\n",
    "highlight_color = mpl.cm.get_cmap(\"Set1\")(4)\n",
    "cmap_roi = mpl.colors.LinearSegmentedColormap.from_list(\"Highlight\", [(0, 0, 0), highlight_color])\n",
    "\n",
    "for fname in parcellation_filenames:\n",
    "    print(fname)\n",
    "    parcel_centers = parcellation.parcel_centers(fname)\n",
    "    print(f\"Number of parcels: {parcel_centers.shape[0]}\")\n",
    "    i_example_parcel = 21 # 21, 47\n",
    "    print(f\"MNI center coordinates for parcel {i_example_parcel}: {parcel_centers[i_example_parcel]}\")\n",
    "    # display = parcellation.plot_parcellation(fname, title=fname)\n",
    "    fpath = parcellation.find_file(fname)\n",
    "    # display = nilearn.plotting.plot_prob_atlas(fpath, title=fname)\n",
    "    # display = nilearn.plotting.plot_prob_atlas(fpath, title=fname, colorbar=True)\n",
    "    # for i_parcel in [21]:\n",
    "    #     display = nilearn.plotting.plot_prob_atlas(fpath, title=f\"cut on parcel {i_parcel+1} center\", view_type=\"filled_contours\", display_mode=\"ortho\",\n",
    "    #                                                cut_coords=parcel_centers[i_parcel], colorbar=True)\n",
    "\n",
    "\n",
    "    for i_parcel in [21]: #24, 25]:#, 47,, 6, 32, 16, 42, 15, 41, 19, 45]:\n",
    "        parcel_img = nilearn.image.index_img(fpath, i_parcel)\n",
    "        parcel_img_data = parcel_img.get_fdata()\n",
    "        print(parcel_img_data.shape, parcel_img_data.min(), parcel_img_data.max())\n",
    "        binary_parcel_img = nilearn.image.binarize_img(parcel_img, threshold=0.25)\n",
    "        binary_parcel_img_data = binary_parcel_img.get_fdata()\n",
    "        print(binary_parcel_img_data.shape, binary_parcel_img_data.min(), binary_parcel_img_data.max())\n",
    "        display = nilearn.plotting.plot_roi(binary_parcel_img, title=f\"parcel #{i_parcel+1}\", cmap=cmap_roi, vmin=0)\n",
    "        # display = nilearn.plotting.plot_roi(binary_parcel_img, title=f\"parcel #{i_parcel+1}\", cmap=\"viridis\", vmin=0)\n",
    "        # display = nilearn.plotting.plot_roi(parcel_img, title=f\"parcel #{i_parcel+1}\", cmap=\"viridis\", vmin=0, vmax=1)\n",
    "    \n",
    "    # parcel_values = [(i+1) / n_parcels for i in range(n_parcels)]\n",
    "    parcel_values = [i+1 for i in range(n_parcels)]\n",
    "    # parcels_cmap =  mpl.colors.LinearSegmentedColormap.from_list(\"Parcels\", [(0, (0,0,0))] + [(parcel_values[i], mpl.cm.get_cmap(\"Set1\")(i)) for i in range(n_parcels)])\n",
    "    fst_parcel_img = nilearn.image.index_img(fpath, parcels_indices[0])\n",
    "    fst_parcel_data = fst_parcel_img.get_fdata()\n",
    "    parcels_img_data = np.zeros_like(fst_parcel_data)\n",
    "    for i_parcel, idx in enumerate(parcels_indices):\n",
    "        parcel_img = nilearn.image.index_img(fpath, idx)\n",
    "        parcels_img_data[parcel_img.get_fdata() > 1e-6] = parcel_values[i_parcel]\n",
    "    parcels_img = nilearn.image.new_img_like(fst_parcel_img, parcels_img_data)\n",
    "    print(parcels_img)\n",
    "    print(parcel_values)\n",
    "    print(parcels_img_data.min())\n",
    "    print(parcels_img_data.max())\n",
    "    # display = nilearn.plotting.plot_roi(parcels_img, title=\"selected parcels\")\n",
    "    # display = nilearn.plotting.plot_roi(parcels_img, title=\"selected parcels\", cmap=parcels_cmap, threshold=1e-6, vmin=0, colorbar=True)\n",
    "    # display = nilearn.plotting.plot_roi(parcels_img, title=\"selected parcels\", cmap=\"Set1\", threshold=1e-6, vmin=1, vmax=10, cbar_vmin=1, cbar_vmax=n_parcels+1, colorbar=True)\n",
    "    display = nilearn.plotting.plot_roi(parcels_img, title=\"selected parcels\", cmap=\"Set1\", threshold=1e-6, vmin=1, vmax=10, colorbar=False)\n",
    "    \n",
    "    # display = nilearn.plotting.plot_prob_atlas(fpath, title=fname, view_type=\"filled_contours\")"
   ]
  }
 ],
 "metadata": {
  "kernelspec": {
   "display_name": "osl",
   "language": "python",
   "name": "python3"
  },
  "language_info": {
   "codemirror_mode": {
    "name": "ipython",
    "version": 3
   },
   "file_extension": ".py",
   "mimetype": "text/x-python",
   "name": "python",
   "nbconvert_exporter": "python",
   "pygments_lexer": "ipython3",
   "version": "3.8.16"
  }
 },
 "nbformat": 4,
 "nbformat_minor": 2
}
