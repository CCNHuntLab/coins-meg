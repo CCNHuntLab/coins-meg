{
 "cells": [
  {
   "cell_type": "code",
   "execution_count": null,
   "metadata": {},
   "outputs": [],
   "source": [
    "import re\n",
    "import os\n",
    "import os.path as op\n",
    "from pprint import pprint\n",
    "from osl import utils\n",
    "from osl import source_recon\n",
    "import numpy as np\n",
    "import coinsmeg_data as coinsmeg"
   ]
  },
  {
   "cell_type": "markdown",
   "metadata": {},
   "source": [
    "The first thing we need to do is to use the structural image to compute the head and brain surfaces in Native and MNI space using *rhino.compute_surfaces*. The head and brain surfaces will be used later  for carrying out the coregistration and forward modelling.\n",
    "\n",
    "For now, we'll do this for one subject.\n",
    "\n",
    "The inputs we need to provide are for the first subject are:\n",
    "\n",
    "* *smri_file* - the full path to the structural MRI niftii file\n",
    "* *recon_dir* - the full path to the directory that will contain the subject directories that RHINO will output\n",
    "* *subject* - the name of the subject directory that RHINO will output\n",
    "* *include_nose* - a boolean flag indicating whether or not to extract a head surface from the structural MRI that includes the nose. It your structural MRI includes the nose AND you have acquired polhemus headshape points that include the nose, then it is recommend to set this flag to True"
   ]
  },
  {
   "cell_type": "code",
   "execution_count": 10,
   "metadata": {},
   "outputs": [
    {
     "name": "stdout",
     "output_type": "stream",
     "text": [
      "/ohba/pi/lhunt/datasets/coins-meg_data/derivatives/preprocessed\n",
      "sub-17_ses-2-meg_task-coinsmeg_run-.*_meg_transsss_preproc_raw\n",
      "Structural files:\n",
      "'/ohba/pi/lhunt/datasets/coins-meg_data/sub-17/ses-3-structural/anat/sub-17_T1w.nii'\n",
      "fif files:\n",
      "['/ohba/pi/lhunt/datasets/coins-meg_data/derivatives/preprocessed/sub-17_ses-2-meg_task-coinsmeg_run-4_meg_transsss/sub-17_ses-2-meg_task-coinsmeg_run-4_meg_transsss_preproc_raw.fif',\n",
      " '/ohba/pi/lhunt/datasets/coins-meg_data/derivatives/preprocessed/sub-17_ses-2-meg_task-coinsmeg_run-1_meg_transsss/sub-17_ses-2-meg_task-coinsmeg_run-1_meg_transsss_preproc_raw.fif',\n",
      " '/ohba/pi/lhunt/datasets/coins-meg_data/derivatives/preprocessed/sub-17_ses-2-meg_task-coinsmeg_run-2_meg_transsss/sub-17_ses-2-meg_task-coinsmeg_run-2_meg_transsss_preproc_raw.fif',\n",
      " '/ohba/pi/lhunt/datasets/coins-meg_data/derivatives/preprocessed/sub-17_ses-2-meg_task-coinsmeg_run-3_meg_transsss/sub-17_ses-2-meg_task-coinsmeg_run-3_meg_transsss_preproc_raw.fif']\n"
     ]
    }
   ],
   "source": [
    "sub = coinsmeg.sub_num2str(17) #  function sub_num2str converts a numerical subject identifier into a string formatted as sub-XX\n",
    "\n",
    "# Directories\n",
    "\n",
    "preproc_dir = op.join(coinsmeg.DERIVATIVES_DIR, \"preprocessed\")\n",
    "recon_dir = op.join(coinsmeg.DERIVATIVES_DIR, \"recon\")\n",
    "\n",
    "print(preproc_dir)\n",
    "anat_dir = coinsmeg.get_sub_anat_dir(sub)\n",
    "smri_file = f\"{anat_dir}/{sub}_T1w.nii\"\n",
    "\n",
    "# There are multiple runs for each subject. We will first fetch all data using an OSL utility\n",
    "def find_fif_files(data_dir, subject, run=None):\n",
    "    # Define the base search pattern\n",
    "    base_pattern = f\"{subject}_ses-2-meg_task-coinsmeg_run-\"\n",
    "    \n",
    "    # If run is specified, use the exact pattern\n",
    "    if run:\n",
    "        search_pattern = f\"{base_pattern}{run}_meg_transsss_preproc_raw\"\n",
    "    else:\n",
    "        # If run is not specified, use a wildcard pattern\n",
    "        search_pattern = f\"{base_pattern}.*_meg_transsss_preproc_raw\"\n",
    "\n",
    "    print(search_pattern)\n",
    "    # List to store paths of matching files\n",
    "    matching_files = []\n",
    "\n",
    "    # Walk through the directory recursively\n",
    "    for root, dirs, files in os.walk(data_dir):\n",
    "        for file in files:\n",
    "            if file.endswith(\".fif\"):\n",
    "                # Match using regex to account for wildcard if run is not specified\n",
    "                if re.search(search_pattern, file):\n",
    "                    matching_files.append(os.path.join(root, file))\n",
    "    \n",
    "    return matching_files\n",
    "\n",
    "fif_files = find_fif_files(preproc_dir, sub)\n",
    "\n",
    "\n",
    "print('Structural files:')\n",
    "pprint(smri_file)\n",
    "\n",
    "print('fif files:')\n",
    "pprint(fif_files)"
   ]
  },
  {
   "cell_type": "code",
   "execution_count": 11,
   "metadata": {},
   "outputs": [
    {
     "name": "stdout",
     "output_type": "stream",
     "text": [
      "*** RUNNING OSL RHINO COMPUTE SURFACES ***\n",
      "The nose is going to be added to the outer skin (scalp) surface.\n",
      "Please ensure that the structural MRI has a FOV that includes the nose\n",
      "reorienting subject brain to be RADIOLOGICAL\n",
      "You can use the following call to check the passed in structural MRI is appropriate,\n",
      "including checking that the L-R, S-I, A-P labels are sensible:\n",
      "In Python:\n",
      "fsleyes(\"/ohba/pi/lhunt/datasets/coins-meg_data/derivatives/recon/sub-17/rhino/surfaces/smri.nii.gz\", \"/home/ali/fsl/data/standard/MNI152_T1_1mm_brain.nii.gz\")\n",
      "From the cmd line:\n",
      "fsleyes /ohba/pi/lhunt/datasets/coins-meg_data/derivatives/recon/sub-17/rhino/surfaces/smri.nii.gz /home/ali/fsl/data/standard/MNI152_T1_1mm_brain.nii.gz\n",
      "Running BET pre-FLIRT...\n",
      "Running FLIRT...\n",
      "Running BET and BETSURF...\n",
      "Refining scalp surface...\n",
      "Adding nose to scalp surface...\n",
      "rhino.surfaces.surfaces_display(\"/ohba/pi/lhunt/datasets/coins-meg_data/derivatives/recon\", \"sub-17\") can be used to check the result\n",
      "*** OSL RHINO COMPUTE SURFACES COMPLETE ***\n"
     ]
    },
    {
     "data": {
      "text/plain": [
       "False"
      ]
     },
     "execution_count": 11,
     "metadata": {},
     "output_type": "execute_result"
    }
   ],
   "source": [
    "source_recon.rhino.compute_surfaces(\n",
    "    smri_file,\n",
    "    recon_dir,\n",
    "    sub,\n",
    "    include_nose=True,\n",
    ")"
   ]
  },
  {
   "cell_type": "markdown",
   "metadata": {},
   "source": [
    "We can now view the result using *fsleyes*. Note that *fsleyes* can sometimes take a few moments to open.\n",
    "\n",
    "CHECK: in fsleyes that:\n",
    "\n",
    "* The surfaces have been extracted properly compared with the structural\n",
    "* The nose is included in the scalp surface, if that was requested with the *include_nose* option above"
   ]
  },
  {
   "cell_type": "code",
   "execution_count": 12,
   "metadata": {},
   "outputs": [],
   "source": [
    "source_recon.rhino.surfaces_display(recon_dir, sub)"
   ]
  },
  {
   "cell_type": "markdown",
   "metadata": {},
   "source": [
    "We need to now provide the coordinates for the nasion, LPA, RPA, and headshape points in Polhemus (head) space, in millimetres. The polhemus coordinates need to be extracted from the MEG fif file."
   ]
  },
  {
   "cell_type": "code",
   "execution_count": null,
   "metadata": {},
   "outputs": [],
   "source": []
  }
 ],
 "metadata": {
  "kernelspec": {
   "display_name": "osl",
   "language": "python",
   "name": "python3"
  },
  "language_info": {
   "codemirror_mode": {
    "name": "ipython",
    "version": 3
   },
   "file_extension": ".py",
   "mimetype": "text/x-python",
   "name": "python",
   "nbconvert_exporter": "python",
   "pygments_lexer": "ipython3",
   "version": "3.8.16"
  }
 },
 "nbformat": 4,
 "nbformat_minor": 2
}
